{
 "cells": [
  {
   "cell_type": "markdown",
   "id": "44ac2d96",
   "metadata": {
    "deletable": false,
    "editable": false,
    "nbgrader": {
     "cell_type": "markdown",
     "checksum": "bb5d7499ccf85c0352263d389828a701",
     "grade": false,
     "grade_id": "cell-2380c365f7051fcf",
     "locked": true,
     "schema_version": 3,
     "solution": false,
     "task": false
    }
   },
   "source": [
    "<div>\n",
    "<img src=\"figures/svtLogo.png\"/>\n",
    "</div>"
   ]
  },
  {
   "cell_type": "markdown",
   "id": "f8194e47",
   "metadata": {
    "deletable": false,
    "editable": false,
    "nbgrader": {
     "cell_type": "markdown",
     "checksum": "cde5415abdea4e47503d7da2c7e7c6ec",
     "grade": false,
     "grade_id": "cell-6d45a0e831d294cb",
     "locked": true,
     "schema_version": 3,
     "solution": false,
     "task": false
    }
   },
   "source": [
    "<h1><center>Mathematical Optimization for Engineers</center></h1>\n",
    "<h2><center>Bonus exercise 3 </center></h2>"
   ]
  },
  {
   "cell_type": "markdown",
   "id": "01c47cf6",
   "metadata": {
    "deletable": false,
    "editable": false,
    "nbgrader": {
     "cell_type": "markdown",
     "checksum": "983687c98dd8718f91733630b9b378b4",
     "grade": false,
     "grade_id": "cell-63cbfa7c647637e7",
     "locked": true,
     "schema_version": 3,
     "solution": false,
     "task": false
    }
   },
   "source": [
    "## Background\n",
    "### Optimal control problems"
   ]
  },
  {
   "cell_type": "markdown",
   "id": "bca72ae4",
   "metadata": {
    "deletable": false,
    "editable": false,
    "nbgrader": {
     "cell_type": "markdown",
     "checksum": "cf8acdd5cf6ca570a798927f5891d130",
     "grade": false,
     "grade_id": "cell-d79a3f855bc32d6a",
     "locked": true,
     "schema_version": 3,
     "solution": false,
     "task": false
    }
   },
   "source": [
    "$$\\newcommand{\\R}{\\mathbb R}$$\n",
    "In this programming exercise, you will solve an optimal control problem (OCP). OCPs are a special case of dynamic optimization problems. For this exercise, we introduce the following class of optimal control problems:\n",
    "\n",
    "\\begin{align}\n",
    "\t\\min_{\\mathbf{x}(\\cdot),\\mathbf{u}(\\cdot)}  & \\Phi(\\mathbf{x}(\\cdot)) = \\mathbf{\\phi}(\\mathbf{x}(t_f)) \\\\\n",
    "\t\\mbox{s.t. }\\quad & \\dot{\\mathbf{x}}(t) = \\mathbf{f}(\\mathbf{x}(t),\\mathbf{u}(t)), \\; t \\in [t_0,t_f], \\\\\n",
    "    &\\mathbf{x}(t_0) = \\mathbf{x_0}, \\\\\n",
    "\t&\\mathbf{u}_{\\min}  \\leq \\mathbf{u}(t) \\leq \\mathbf{u}_{\\max} \\; \\forall \\; t \\in [t_0,t_f].\n",
    "\\end{align}\n",
    "    \n",
    "The state variables $\\mathbf{x}(t) \\in \\R^{n_x}$ and control variables $\\mathbf{u}(t) \\in \\R^{n_u}$ are time-dependent. The so-called Mayer-type objective functional $\\Phi$ is defined by the function $\\mathbf{\\phi} : \\R^{n_x} \\rightarrow \\R$, that only depends on the state $\\mathbf{x}(t)$ at the final time $t_f$. The constraints are a system of ordinary differential equations (ODE). The right hand side of the ODE is given by the function $\\mathbf{f}:\\R^{n_x}\\times \\R^{n_u} \\rightarrow \\R^{n_x}$. Finally, we consider control path constraints in form of simple lower and upper bounds $\\mathbf{u}_{\\min} \\in \\R^{n_u}$ and $\\mathbf{u}_{\\max} \\in \\R^{n_u}$ on $\\mathbf{u}(t)$, respectively.\n",
    "\n",
    "The dimension of the optimization problem is infinite, since for every $t\\in [t_0,t_f]$, $\\mathbf{u}(t)$ and $\\mathbf{x}(t)$ are optimization variables.\n",
    "\n",
    "For fixed $\\mathbf{u}(\\cdot)$, the state variables $\\mathbf{x}(t),\\,t\\in [t_0,t_f]$ are uniquely determined by the solution of the initial value problem. Thus, the control vector function $\\mathbf{u}:[t_0,t_f] \\rightarrow \\R^{n_u}$  is the actual (infinite-dimensional) degree of freedom."
   ]
  },
  {
   "cell_type": "markdown",
   "id": "58d64800",
   "metadata": {
    "deletable": false,
    "editable": false,
    "nbgrader": {
     "cell_type": "markdown",
     "checksum": "344c0eeb20806857565edba6d17c96f7",
     "grade": false,
     "grade_id": "cell-056c760315ee0882",
     "locked": true,
     "schema_version": 3,
     "solution": false,
     "task": false
    }
   },
   "source": [
    "### Full discretization approach"
   ]
  },
  {
   "cell_type": "markdown",
   "id": "ab2012e6",
   "metadata": {
    "deletable": false,
    "editable": false,
    "nbgrader": {
     "cell_type": "markdown",
     "checksum": "77d4ae6762a8e21b72845f8e90d22152",
     "grade": false,
     "grade_id": "cell-0753d13b9ce9dc0e",
     "locked": true,
     "schema_version": 3,
     "solution": false,
     "task": false
    }
   },
   "source": [
    "$$\\newcommand{\\R}{\\mathbb R}$$\n",
    "The so-called full discretization approach discretizes state and control variables, as well as the differential equations. Thus, the original optimal control problem is transformed into an ordinary nonlinear program (NLP). Here, we will use the <u>implicit Euler method</u> to discretize the ODE into a set of nonlinear equations. The procedure to obtain a nonlinear program is now described in detail:\n",
    "\n",
    "The first step is to divide the time horizon $[t_0,t_f]$ into $M$ intervals $[t_{k-1},t_k]$, $k=1,\\dots, M$ of length $h$ with\n",
    "\n",
    "$\n",
    "t_M = t_f, \\qquad t_k - t_{k-1} = h, \\, k=1,\\dots, M, \\qquad h = \\frac{t_f-t_0}{M}.\n",
    "$\n",
    "\n",
    "The implicit Euler discretization is then\n",
    "\\begin{equation}\\label{eq:euler}\n",
    "\\mathbf{x}_{k+1} = \\mathbf{x}_k + h \\cdot \\mathbf{f}(\\mathbf{x}_{k+1},\\mathbf{u}_{k+1}), \\quad k=0,1,\\dots,M-1,\n",
    "\\end{equation}\n",
    "\n",
    "where $\\mathbf{x}_{k}\\in \\R^{n_x}$ and $\\mathbf{u}_k\\in \\R^{n_u}$ are finite dimensional decision variables that approximate the states $\\mathbf{x}(t)$ and controls $\\mathbf{u}(t)$, respectively, at the discretization points\n",
    "$t_k$, $k=1,2,\\dots,M$."
   ]
  },
  {
   "cell_type": "markdown",
   "id": "28ae5306",
   "metadata": {
    "deletable": false,
    "editable": false,
    "nbgrader": {
     "cell_type": "markdown",
     "checksum": "7a9dbd971e1c4ef7e1b1bf6f13745954",
     "grade": false,
     "grade_id": "cell-d37af9f9d6326b89",
     "locked": true,
     "schema_version": 3,
     "solution": false,
     "task": false
    }
   },
   "source": [
    "$$\\newcommand{\\R}{\\mathbb R}$$\n",
    "The optimization variable vector of the full discretization NLP is \n",
    "\n",
    "\\begin{align}\n",
    "\\mathbf{y} = \\left(\\begin{array}{c}\n",
    "\\mathbf{x}_1\\\\\n",
    "\\mathbf{u}_1\\\\\n",
    "\\mathbf{x}_2\\\\\n",
    "\\mathbf{u}_2\\\\\n",
    "\\vdots \\\\\n",
    "\\mathbf{x}_M\\\\\n",
    "\\mathbf{u}_M\n",
    "\\end{array} \\right) \\in \\R^{n_y}, \\quad \\text{where } n_y = M\\cdot(n_x+n_u).\n",
    "\\end{align}\n",
    "\n",
    "The full discretization NLP is\n",
    "\n",
    "\\begin{align}\n",
    "\\min_{\\mathbf{y} \\in \\R^{n_y}} & \\phi(\\mathbf{x}_M) \\\\\n",
    "\\text{s.t.}\\quad & \\mathbf{c}_k(y) = \\mathbf{0}, \\quad k=0,1,\\dots, M-1 \\\\\n",
    "& \\mathbf{u}_{\\min} \\le \\mathbf{u}_k \\le \\mathbf{u}_{\\max}, \\quad k=1,\\dots,M,\n",
    "\\end{align}\n",
    "\n",
    "where the constraint functions $\\mathbf{c}_k: \\R^{n_y} \\rightarrow \\R^{n_x}$, $k=0,1,\\dots,M-1$ are defined by:\n",
    "$\n",
    "\\mathbf{c}_k(\\mathbf{y}) := \\mathbf{x}_{k+1} - \\mathbf{x}_k - h \\cdot \\mathbf{f}(\\mathbf{x}_{k+1},\\mathbf{u}_{k+1}).\n",
    "$"
   ]
  },
  {
   "cell_type": "markdown",
   "id": "e37957c3",
   "metadata": {
    "deletable": false,
    "editable": false,
    "nbgrader": {
     "cell_type": "markdown",
     "checksum": "d2d25c72b0c16075da0680d3389ce5e6",
     "grade": false,
     "grade_id": "cell-62da453a7dc9a5c5",
     "locked": true,
     "schema_version": 3,
     "solution": false,
     "task": false
    }
   },
   "source": [
    "## Problem description"
   ]
  },
  {
   "cell_type": "markdown",
   "id": "6f8f5e5b",
   "metadata": {
    "deletable": false,
    "editable": false,
    "nbgrader": {
     "cell_type": "markdown",
     "checksum": "5016dec03e3b8fdc1ae0458cb6c55da5",
     "grade": false,
     "grade_id": "cell-bbf0482767b790e3",
     "locked": true,
     "schema_version": 3,
     "solution": false,
     "task": false
    }
   },
   "source": [
    "We consider reactions inside a cylindrical fixed bed reactor:\n",
    "<br>\n",
    "<br>\n",
    "<div>\n",
    "<img src=\"figures/fixedBed.png\" width=\"500\"/>\n",
    "</div>\n"
   ]
  },
  {
   "cell_type": "markdown",
   "id": "52443157",
   "metadata": {
    "deletable": false,
    "editable": false,
    "nbgrader": {
     "cell_type": "markdown",
     "checksum": "06e74f9b90c03072e393939ac939b3a4",
     "grade": false,
     "grade_id": "cell-e21075c3ee4fe250",
     "locked": true,
     "schema_version": 3,
     "solution": false,
     "task": false
    }
   },
   "source": [
    "For modelling purposes, think of it as a cylndrical tube, filled with catalyst pellets (bed), with reactants flowing through the bed and being converted into products. The reactant enters the reactor on the inflow side, reacts inside the reactor and leaves together with the products on the outflow side.\n",
    "<br>\n",
    "<br>\n",
    "<div>\n",
    "<img src=\"figures/TubularReactor-001.png\" width=\"400\"/>\n",
    "</div>\n",
    "\n",
    "We additionally assume the fluid velocity inside the cylinder to be uniform over a cross-section $A_c$, the flow to be in steady-state and the density of the fluid to be constant.\n",
    "\n",
    "In our problem, the reactions inside the reactor can be described by the following chemical equation:\n",
    "<br>\n",
    "<br>\n",
    "<div>\n",
    "<img src=\"figures/catReaction.png\" width=\"150\"/>\n",
    "</div>\n",
    "\n",
    "The reactions are catalysed - the reversible step from species $A$ to intermediate species $B$, $A  \\rightleftharpoons B$, is dependent on catalyst 1 and the irreversible step from $B \\rightarrow C$ is dependent on catalyst 2. \n",
    "\n",
    "The objective is to maximize the amount of $C$ at the outflow by adjusting the mixture of catalysts at all positions $t$ on the bed. The control variable, $u(t)$, is the fraction of catalyst 1 and consequently, $(1-u(t))$ is the fraction of catalyst 2 on the cross-section of the bed, at position $t$. \n",
    "\n",
    "It is important to remark, that the variable $t$ does not represent the time in this problem, but the spatial dimension in direction of the reactor axis."
   ]
  },
  {
   "cell_type": "markdown",
   "id": "13e51f1a",
   "metadata": {
    "deletable": false,
    "editable": false,
    "nbgrader": {
     "cell_type": "markdown",
     "checksum": "fb0bbe0d2d5993a189b6436330011e8e",
     "grade": false,
     "grade_id": "cell-2601d1d7d9c9867b",
     "locked": true,
     "schema_version": 3,
     "solution": false,
     "task": false
    }
   },
   "source": [
    "To solve the problem using full-discretization, we first discretize the 1-dimensional space as shown:\n",
    "<br>\n",
    "<br>\n",
    "<div>\n",
    "<img src=\"figures/TubularReactor-002.png\" width=\"400\"/>\n",
    "</div>\n",
    "<br>\n",
    "<br>\n",
    "The equations below show the mathematical formulation of this setting:<br> \n",
    "<i>(Hint: The flow is assumed uniform and steady, so the space and time derivatives are interchangeable with the help of a constant. You can assume the constant flow speed to be $1m/s$ and the length of the reactor, $t_f = 1m$)</i>:\n",
    "\n",
    "\\begin{align}\n",
    "\\begin{split}\n",
    "\\frac{d x_A(t)}{d t} &= u(t) \\cdot (k_2x_B(t) - k_1x_A(t))\\\\\n",
    "\\\\\n",
    "\\frac{d x_B(t)}{d t} &= -u(t) \\cdot (k_2x_B(t)-k_1x_A(t))-(1-u(t))\\cdot k_3 x_B(t)\\\\\n",
    "\\\\\n",
    "x_C(t) &= 1-x_A(t)-x_B(t), \\; \\; t \\in [t_0,t_f] \\\\\n",
    "\\\\\n",
    "u_{min} \\; &\\le \\; u(t) \\; \\le \\; u_{max} \\; \\forall \\; t \\in [t_0,t_f]\\\\\n",
    "\\\\\n",
    "\\mathbf{\\phi}(x_A(t_f)&, x_B (t_f))=x_C(t_f) = 1-x_A(t_f)-x_B(t_f)\n",
    "\\end{split}\n",
    "\\end{align}\n",
    "<br>\n",
    "<br>\n",
    "$x_A(t)$ and $x_B(t)$ are the unknown mole fractions of the educts $A$ and $B$ at position $t$, where $t$ is the distance from the inflow.\n",
    "\n",
    "$k_1$, $k_2$ and $k_3$ are the velocity constants of reactions $1$, $2$ and $3$. In the following, the values $k_1=k_3=1$, $k_2=10$, $t_0=0$ and $t_f=1$ shall be used. \n",
    "\n",
    "As stated before the control variable $u$ represents the mole fraction of  catalyst 1, therefore $u_{min}=0$ and $u_{max}=1$.\n",
    "\n",
    "The inflow only consists of reactant $A$. So the last piece of information needed to solve this problem are the initial conditions:\n",
    "\\begin{align}\n",
    "\\begin{split}\n",
    "{x}_A(t_0) &= 1\\\\\n",
    "{x}_B(t_0) &= 0.\\label{initialvalue}\n",
    "\\end{split}\n",
    "\\end{align}\n",
    "\n",
    "The goal is to maximize the mole fraction of product $C$, namely \n",
    "$\n",
    "x_C(t_f) = \\phi(x_A(t_f), x_B (t_f)) =\n",
    "1-x_A(t_f)-x_B(t_f)\n",
    "$\n",
    "at the final position ($t_f = 1$)."
   ]
  },
  {
   "cell_type": "markdown",
   "id": "30da66c0",
   "metadata": {
    "deletable": false,
    "editable": false,
    "nbgrader": {
     "cell_type": "markdown",
     "checksum": "49c3c64481f2e01f3a5af16a1bcecb36",
     "grade": false,
     "grade_id": "cell-0019fa20eefc1dca",
     "locked": true,
     "schema_version": 3,
     "solution": false,
     "task": false
    }
   },
   "source": [
    "### Your task"
   ]
  },
  {
   "cell_type": "markdown",
   "id": "ca7a3be2",
   "metadata": {
    "deletable": false,
    "editable": false,
    "nbgrader": {
     "cell_type": "markdown",
     "checksum": "b9ba955ff7267e34e28c85e1761fdef6",
     "grade": false,
     "grade_id": "cell-5518593ae96d4676",
     "locked": true,
     "schema_version": 3,
     "solution": false,
     "task": false
    }
   },
   "source": [
    "1. Set up the nonlinear program by applying full discretization.\n",
    "<br>\n",
    "<br>\n",
    "2. Solve the nonlinear optimization problem using the solver SLSQP. Use the value $0.5$ as initial guess for $u_k$, and $(1,0)^T$ (why?) as an initial guess for $x_k$."
   ]
  },
  {
   "cell_type": "markdown",
   "id": "1e128dac",
   "metadata": {
    "deletable": false,
    "editable": false,
    "nbgrader": {
     "cell_type": "markdown",
     "checksum": "7d71af6cd70c2b4478b4861e851a4f2b",
     "grade": false,
     "grade_id": "cell-03f1d14521a45822",
     "locked": true,
     "schema_version": 3,
     "solution": false,
     "task": false
    }
   },
   "source": [
    "#### Hint"
   ]
  },
  {
   "cell_type": "markdown",
   "id": "4f96c2a1",
   "metadata": {
    "deletable": false,
    "editable": false,
    "nbgrader": {
     "cell_type": "markdown",
     "checksum": "79070f723a08bb39145c731268c40459",
     "grade": false,
     "grade_id": "cell-57411cfb4c3ab443",
     "locked": true,
     "schema_version": 3,
     "solution": false,
     "task": false
    }
   },
   "source": [
    "The computed optimal objective function values for $M=10$, $M=30$ and $M=50$ are\n",
    "0.0450, 0.0468 and 0.0472, respectively."
   ]
  },
  {
   "cell_type": "markdown",
   "id": "82a815ad",
   "metadata": {
    "deletable": false,
    "editable": false,
    "nbgrader": {
     "cell_type": "markdown",
     "checksum": "86c9c8006c76bb39f0a6852b446bc855",
     "grade": false,
     "grade_id": "cell-b5c1ff7105196d51",
     "locked": true,
     "schema_version": 3,
     "solution": false,
     "task": false
    }
   },
   "source": [
    "<u>You should use the template below, for submission.</u> \n",
    "<br>\n",
    "<br>\n",
    "- As a rule of thumb, you should <b>only add code</b> to this file and <b>not delete or change anything in the template</b>.\n",
    "<br>\n",
    "<br>\n",
    "- To see where you can add code, go ahead and do a search (ctrl+f) for '# YOUR CODE HERE'\n",
    "<br>\n",
    "<br>\n",
    "- Once you have added your code at these spots, delete the subsequent 'raise NotImplementedError()'. These exist only to remind you to add your own code.\n",
    "<br>\n",
    "<br>\n",
    "- Most importantly, have fun while programing :)!"
   ]
  },
  {
   "cell_type": "code",
   "execution_count": 1,
   "id": "16090126",
   "metadata": {},
   "outputs": [],
   "source": [
    "import numpy as np\n",
    "\n",
    "# refer to the documentation of scipy's SLSQP solver to understand these imports\n",
    "from scipy.optimize import minimize\n",
    "from scipy.optimize import Bounds\n",
    "from scipy.optimize import NonlinearConstraint\n",
    "\n",
    "# don't worry about plotting\n",
    "from matplotlib import pyplot as plt"
   ]
  },
  {
   "cell_type": "code",
   "execution_count": 2,
   "id": "91a38302",
   "metadata": {
    "deletable": false,
    "nbgrader": {
     "cell_type": "code",
     "checksum": "8aad4cf79e18769fe6f1177cf2dd494a",
     "grade": false,
     "grade_id": "eval_rhs",
     "locked": false,
     "schema_version": 3,
     "solution": true,
     "task": false
    }
   },
   "outputs": [],
   "source": [
    "# Right hand side function of ODE (10 points)\n",
    "\n",
    "# inputs: state and control vectors, x and u, as numpy arrays\n",
    "\n",
    "# output: RHS vector, f, as numpy array\n",
    "\n",
    "def eval_rhs(x, u):\n",
    "    # constants\n",
    "    k1 = 1\n",
    "    k2 = 10\n",
    "    k3 = 1\n",
    "    \n",
    "    f = np.zeros(2)\n",
    "    \n",
    "    # YOUR CODE HERE\n",
    "    f[0] = u*(k2*x[1]-k1*x[0])\n",
    "    f[1] = (-1*u*(k2*x[1]-k1*x[0]))-((1-u)*k3*x[1])\n",
    "    #raise NotImplementedError()\n",
    "    \n",
    "    return f"
   ]
  },
  {
   "cell_type": "code",
   "execution_count": 3,
   "id": "bc20fa1d",
   "metadata": {
    "deletable": false,
    "editable": false,
    "nbgrader": {
     "cell_type": "code",
     "checksum": "1cf40a83fa405084aa6598dabeeeaf9e",
     "grade": true,
     "grade_id": "testeval_rhs",
     "locked": true,
     "points": 10,
     "schema_version": 3,
     "solution": false,
     "task": false
    }
   },
   "outputs": [],
   "source": [
    "# please leave this cell as it is"
   ]
  },
  {
   "cell_type": "code",
   "execution_count": 4,
   "id": "b810ee06",
   "metadata": {
    "deletable": false,
    "nbgrader": {
     "cell_type": "code",
     "checksum": "f0bd7a74634a656e5ccd0cc84c5b6532",
     "grade": false,
     "grade_id": "cons",
     "locked": false,
     "schema_version": 3,
     "solution": true,
     "task": false
    }
   },
   "outputs": [],
   "source": [
    "# equality constraints for optimization - discretized ODE (50 points)\n",
    "\n",
    "# inputs: \n",
    "#  1. optimization variable vector of the full-discretization NLP, y, as numpy array\n",
    "#  2. number of discretization intervals, M, as integer\n",
    "\n",
    "# output: \n",
    "#  1. vector of evaluated contraint expressions, c_k(y) for all k = 0,1 ... ,M-1, as numpy array\n",
    "#\n",
    "#  Note - Please ensure that the output is in the format (c_0', c_1', c_2', ... , c_M-1')' i.e. all column vectors \n",
    "#         c_k(y) are vertically collated into one big column vector, ceq, in the order shown.\n",
    "\n",
    "def cons(y, M):\n",
    "    \n",
    "    # YOUR CODE HERE\n",
    "    t0 = 0\n",
    "    tf = 1\n",
    "    h = (tf-t0)/M\n",
    "    nx = 2\n",
    "    nu = 1\n",
    "    \n",
    "    ceq = np.zeros(nx*M)\n",
    "    x0 = np.zeros(2)\n",
    "    x0[0] = 1\n",
    "    x0[1] = 0\n",
    "    \n",
    "    fval = eval_rhs(y[0:nx], y[nx:nx+nu])\n",
    "    ceq[0:nx] = x0 + (h*fval) - y[0:nx]\n",
    "    \n",
    "    for i in np.arange(2, M+1):  \n",
    "        c0i = (i-1) * nx\n",
    "        c1i = [int(a) for a in range(c0i, c0i+nx)] \n",
    "        \n",
    "        xai = (i-1)*(nx+nu)\n",
    "        xbi = [int(a) for a in range(xai, xai+nx)] \n",
    "        xi = [int(a) for a in range(xai-nx-nu, xai-nu)]\n",
    "        ui = int(xai+nx)\n",
    "        \n",
    "        fval = eval_rhs(y[xbi],y[ui])\n",
    "        ceq[c1i] = y[xi]+(h*fval)-y[xbi]\n",
    "         \n",
    "    return ceq"
   ]
  },
  {
   "cell_type": "code",
   "execution_count": 5,
   "id": "62825c14",
   "metadata": {
    "deletable": false,
    "editable": false,
    "nbgrader": {
     "cell_type": "code",
     "checksum": "9920a0eaa706164b1ded02a92c9e9abe",
     "grade": true,
     "grade_id": "test_cons",
     "locked": true,
     "points": 50,
     "schema_version": 3,
     "solution": false,
     "task": false
    }
   },
   "outputs": [],
   "source": [
    "# please leave this cell as it is"
   ]
  },
  {
   "cell_type": "code",
   "execution_count": 6,
   "id": "a9fec33d",
   "metadata": {
    "deletable": false,
    "nbgrader": {
     "cell_type": "code",
     "checksum": "bdb0845a6062c3792fe7936567c90832",
     "grade": false,
     "grade_id": "obj",
     "locked": false,
     "schema_version": 3,
     "solution": true,
     "task": false
    }
   },
   "outputs": [],
   "source": [
    "# objective function (10 points)\n",
    "\n",
    "# inputs: \n",
    "#  1. optimization variable vector of the full-discretization NLP, y, as numpy array\n",
    "\n",
    "# output: \n",
    "#  1. objective function value \n",
    "\n",
    "def objective(y):\n",
    "\n",
    "    # YOUR CODE HERE\n",
    "    obj = y[-2]+y[-3]-1\n",
    "    #raise NotImplementedError()\n",
    "    return obj"
   ]
  },
  {
   "cell_type": "code",
   "execution_count": 7,
   "id": "2e141b7a",
   "metadata": {
    "deletable": false,
    "editable": false,
    "nbgrader": {
     "cell_type": "code",
     "checksum": "82d008e77f71663307a6721d4e8341f6",
     "grade": true,
     "grade_id": "test_obj",
     "locked": true,
     "points": 10,
     "schema_version": 3,
     "solution": false,
     "task": false
    }
   },
   "outputs": [],
   "source": [
    "# please leave this cell as it is"
   ]
  },
  {
   "cell_type": "code",
   "execution_count": 8,
   "id": "c2b3628e",
   "metadata": {
    "deletable": false,
    "nbgrader": {
     "cell_type": "code",
     "checksum": "374246653c8da08a73bcd8745b651864",
     "grade": false,
     "grade_id": "main",
     "locked": false,
     "schema_version": 3,
     "solution": true,
     "task": false
    }
   },
   "outputs": [
    {
     "name": "stdout",
     "output_type": "stream",
     "text": [
      "Done!\n"
     ]
    }
   ],
   "source": [
    "# main function (30 points)\n",
    "\n",
    "# inputs: \n",
    "#  1. number of discretization intervals, M, as integer\n",
    "\n",
    "# output: \n",
    "#  1. optimal objective function value \n",
    "#  2. optimal variable vector, y, as numpy array\n",
    "\n",
    "def run_optimization(M):\n",
    "\n",
    "    # YOUR CODE HERE\n",
    "    nx = 2\n",
    "    nu = 1\n",
    "    len_y = (nx+nu)*M\n",
    "    \n",
    "    ui = (np.arange(2,len_y,3)).astype(int)\n",
    "    x1i = [int(a) - 2 for a in ui]\n",
    "    x2i = [int(a) - 1 for a in ui]\n",
    "    \n",
    "    y0 = np.zeros((len_y))\n",
    "    y0[x1i] = 1\n",
    "    y0[x2i] = 0\n",
    "    y0[ui] = 0.5\n",
    "    \n",
    "    lb = np.zeros(len_y)\n",
    "    ub = np.ones((len_y))    \n",
    "    bounds_u = Bounds(lb, ub)\n",
    "    \n",
    "    cons_ini = lambda y: cons(y, M)\n",
    "    nl_cons = NonlinearConstraint(cons_ini, 0, 0)\n",
    "    \n",
    "    res = minimize(objective, y0, method='SLSQP', constraints=[nl_cons], bounds=bounds_u)\n",
    "    objopt = -1*res.fun\n",
    "    yopt = res.x\n",
    "    \n",
    "    return objopt, yopt\n",
    "print(\"Done!\")"
   ]
  },
  {
   "cell_type": "code",
   "execution_count": 9,
   "id": "97efae37",
   "metadata": {},
   "outputs": [
    {
     "name": "stdout",
     "output_type": "stream",
     "text": [
      "objopt:  0.04504496717523454\n",
      "yopt:  [0.95494276 0.04454189 0.88430076 0.93686674 0.05982918 0.53388539\n",
      " 0.92705673 0.06544991 0.35992446 0.92019861 0.06744572 0.27907859\n",
      " 0.91450717 0.06798757 0.24256934 0.90939335 0.06781953 0.22118781\n",
      " 0.90482684 0.06698922 0.19437387 0.90128118 0.06495431 0.14084718\n",
      " 0.90043782 0.05996894 0.02804195 0.90043782 0.05451722 0.        ]\n"
     ]
    }
   ],
   "source": [
    "objopt, yopt = run_optimization(10)\n",
    "print(\"objopt: \", objopt)\n",
    "print(\"yopt: \", yopt)"
   ]
  },
  {
   "cell_type": "code",
   "execution_count": 10,
   "id": "d7336c7c",
   "metadata": {},
   "outputs": [
    {
     "name": "stdout",
     "output_type": "stream",
     "text": [
      "objopt:  0.04679239222960985\n",
      "yopt:  [9.75609756e-01 2.43902439e-02 1.00000000e+00 9.57763236e-01\n",
      " 4.22367638e-02 1.00000000e+00 9.46537213e-01 5.31281131e-02\n",
      " 8.11018849e-01 9.39076278e-01 5.99067100e-02 6.58299898e-01\n",
      " 9.33807585e-01 6.41944210e-02 5.41557530e-01 9.29870918e-01\n",
      " 6.69108639e-02 4.52903026e-01 9.26771873e-01 6.86063154e-02\n",
      " 3.86239969e-01 9.24213097e-01 6.96257740e-02 3.36746772e-01\n",
      " 9.22008381e-01 7.01939138e-02 3.00548214e-01 9.20037133e-01\n",
      " 7.04612117e-02 2.74515278e-01 9.18219477e-01 7.05299690e-02\n",
      " 2.56104311e-01 9.16502168e-01 7.04696550e-02 2.43238614e-01\n",
      " 9.14850264e-01 7.03263999e-02 2.34216947e-01 9.13242098e-01\n",
      " 7.01290266e-02 2.27621666e-01 9.11666030e-01 6.98931318e-02\n",
      " 2.22257081e-01 9.10118359e-01 6.96238106e-02 2.17082407e-01\n",
      " 9.08602053e-01 6.93174219e-02 2.11154037e-01 9.07126077e-01\n",
      " 6.89626176e-02 2.03578446e-01 9.05705368e-01 6.85406412e-02\n",
      " 1.93464498e-01 9.04361563e-01 6.80248156e-02 1.79876099e-01\n",
      " 9.03124733e-01 6.73790393e-02 1.61786507e-01 9.02036556e-01\n",
      " 6.65549447e-02 1.38035423e-01 9.01155833e-01 6.54869324e-02\n",
      " 1.07273845e-01 9.00567885e-01 6.40838076e-02 6.79064931e-02\n",
      " 9.00400714e-01 6.22145342e-02 1.80222772e-02 9.00394981e-01\n",
      " 6.02142844e-02 5.77337749e-04 9.00394981e-01 5.82718881e-02\n",
      " 7.00658162e-18 9.00394981e-01 5.63921498e-02 0.00000000e+00\n",
      " 9.00394981e-01 5.45730482e-02 4.43380871e-18 9.00394981e-01\n",
      " 5.28126272e-02 5.21433482e-18]\n"
     ]
    }
   ],
   "source": [
    "objopt, yopt = run_optimization(30)\n",
    "print(\"objopt: \", objopt)\n",
    "print(\"yopt: \", yopt)"
   ]
  },
  {
   "cell_type": "code",
   "execution_count": 11,
   "id": "443a9660",
   "metadata": {},
   "outputs": [
    {
     "name": "stdout",
     "output_type": "stream",
     "text": [
      "objopt:  0.047204348990063205\n",
      "yopt:  [9.83606557e-01 1.63934426e-02 1.00000000e+00 9.70169309e-01\n",
      " 2.98306907e-02 1.00000000e+00 9.59155172e-01 4.08448284e-02\n",
      " 1.00000000e+00 9.51031394e-01 4.88495877e-02 8.78178749e-01\n",
      " 9.44896593e-01 5.47343293e-02 7.71569634e-01 9.40143781e-01\n",
      " 5.91098191e-02 6.80829653e-01 9.36371438e-01 6.23875321e-02\n",
      " 6.03582440e-01 9.33307789e-01 6.48517923e-02 5.37878709e-01\n",
      " 9.30764972e-01 6.67036806e-02 4.82090631e-01 9.28610577e-01\n",
      " 6.80884502e-02 4.34834088e-01 9.26749549e-01 6.91131038e-02\n",
      " 3.94923811e-01 9.25112441e-01 6.98579023e-02 3.61339197e-01\n",
      " 9.23647672e-01 7.03840199e-02 3.33193329e-01 9.22316379e-01\n",
      " 7.07387011e-02 3.09704626e-01 9.21088862e-01 7.09588753e-02\n",
      " 2.90192717e-01 9.19942167e-01 7.10736655e-02 2.74059327e-01\n",
      " 9.18858403e-01 7.11061597e-02 2.60774630e-01 9.17823556e-01\n",
      " 7.10747015e-02 2.49870298e-01 9.16826634e-01 7.09938406e-02\n",
      " 2.40932197e-01 9.15859065e-01 7.08750226e-02 2.33589321e-01\n",
      " 9.14914221e-01 7.07271552e-02 2.27516505e-01 9.13987113e-01\n",
      " 7.05569834e-02 2.22415985e-01 9.13074128e-01 7.03694193e-02\n",
      " 2.18020725e-01 9.12172819e-01 7.01678206e-02 2.14092886e-01\n",
      " 9.11281787e-01 6.99541453e-02 2.10406436e-01 9.10400547e-01\n",
      " 6.97291439e-02 2.06757831e-01 9.09529449e-01 6.94924671e-02\n",
      " 2.02953677e-01 9.08669621e-01 6.92427650e-02 1.98811383e-01\n",
      " 9.07822948e-01 6.89777233e-02 1.94149975e-01 9.06992050e-01\n",
      " 6.86941241e-02 1.88796824e-01 9.06180310e-01 6.83878259e-02\n",
      " 1.82575597e-01 9.05391924e-01 6.80537472e-02 1.75310114e-01\n",
      " 9.04632000e-01 6.76857760e-02 1.66815054e-01 9.03906683e-01\n",
      " 6.72766727e-02 1.56899657e-01 9.03223345e-01 6.68179105e-02\n",
      " 1.45363561e-01 9.02590854e-01 6.62994306e-02 1.31990582e-01\n",
      " 9.02019945e-01 6.57093168e-02 1.16546566e-01 9.01523651e-01\n",
      " 6.50334341e-02 9.87886948e-02 9.01118009e-01 6.42547813e-02\n",
      " 7.84389746e-02 9.00822908e-01 6.33527699e-02 5.52009850e-02\n",
      " 9.00663239e-01 6.23022220e-02 2.87538765e-02 9.00663239e-01\n",
      " 6.10806098e-02 6.25576183e-18 9.00663239e-01 5.98829508e-02\n",
      " 7.26152587e-18 9.00642455e-01 5.87329697e-02 3.31539717e-03\n",
      " 9.00642455e-01 5.75813429e-02 8.16370355e-18 9.00642455e-01\n",
      " 5.64522969e-02 6.72060425e-18 9.00642455e-01 5.53453891e-02\n",
      " 2.04859153e-17 9.00642455e-01 5.42601854e-02 3.47914151e-18\n",
      " 9.00642455e-01 5.31962602e-02 1.80163908e-18 9.00642455e-01\n",
      " 5.21531963e-02 6.25067963e-18]\n"
     ]
    }
   ],
   "source": [
    "objopt, yopt = run_optimization(50)\n",
    "print(\"objopt: \", objopt)\n",
    "print(\"yopt: \", yopt)"
   ]
  },
  {
   "cell_type": "code",
   "execution_count": 12,
   "id": "2dba902a",
   "metadata": {
    "deletable": false,
    "editable": false,
    "nbgrader": {
     "cell_type": "code",
     "checksum": "2466fd5523b3d56754df685aefe82c62",
     "grade": true,
     "grade_id": "test_main",
     "locked": true,
     "points": 30,
     "schema_version": 3,
     "solution": false,
     "task": false
    }
   },
   "outputs": [],
   "source": [
    "# please leave this cell as it is"
   ]
  },
  {
   "cell_type": "code",
   "execution_count": null,
   "id": "e1060969",
   "metadata": {},
   "outputs": [],
   "source": []
  },
  {
   "cell_type": "code",
   "execution_count": null,
   "id": "ec7c0738",
   "metadata": {},
   "outputs": [],
   "source": []
  }
 ],
 "metadata": {
  "kernelspec": {
   "display_name": "Python 3 (ipykernel)",
   "language": "python",
   "name": "python3"
  },
  "language_info": {
   "codemirror_mode": {
    "name": "ipython",
    "version": 3
   },
   "file_extension": ".py",
   "mimetype": "text/x-python",
   "name": "python",
   "nbconvert_exporter": "python",
   "pygments_lexer": "ipython3",
   "version": "3.10.9"
  }
 },
 "nbformat": 4,
 "nbformat_minor": 5
}
