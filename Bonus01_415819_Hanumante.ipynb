{
 "cells": [
  {
   "cell_type": "markdown",
   "metadata": {
    "deletable": false,
    "editable": false,
    "nbgrader": {
     "cell_type": "markdown",
     "checksum": "6dd47cdb0d3201813473f6a2de75927a",
     "grade": false,
     "grade_id": "cell-2cbc6ed6222db8c8",
     "locked": true,
     "schema_version": 3,
     "solution": false,
     "task": false
    }
   },
   "source": [
    "<div>\n",
    "<img src=\"figures/svtLogo.png\"/>\n",
    "</div>\n",
    "\n",
    "<center><h1>Mathematical Optimization for Engineers</h1></center>\n",
    "<center><h2>Bonus exercise 1</h2></center>"
   ]
  },
  {
   "cell_type": "markdown",
   "metadata": {
    "deletable": false,
    "editable": false,
    "nbgrader": {
     "cell_type": "markdown",
     "checksum": "aacc1a9e53d75d3eb94e96bc732a5a1c",
     "grade": false,
     "grade_id": "cell-071be1ab0fdbc231",
     "locked": true,
     "schema_version": 3,
     "solution": false,
     "task": false
    }
   },
   "source": [
    "In this exercise, you will <u>implement and solve</u> the optimization problem that we formulated in Lab 01.<br>\n",
    "<br>\n",
    "You should use the template below, for submission. \n",
    "<br>\n",
    "<br>\n",
    "- As a rule of thumb, you should <b>only add code</b> to this file and <b>not delete or change anything in the template</b>.\n",
    "<br>\n",
    "<br>\n",
    "- To see where you can add code, go ahead and do a search (ctrl+f) for '# YOUR CODE HERE'\n",
    "<br>\n",
    "<br>\n",
    "- Once you have added your code at these spots, delete the subsequent 'raise NotImplementedError()'. These exist only to remind you to add your own code.\n",
    "<br>\n",
    "<br>\n",
    "- Most importantly, have fun while programing :)!"
   ]
  },
  {
   "cell_type": "markdown",
   "metadata": {
    "deletable": false,
    "editable": false,
    "nbgrader": {
     "cell_type": "markdown",
     "checksum": "9712ce12b96607901390e25d90312ea8",
     "grade": false,
     "grade_id": "cell-6d8a6bdc6055a492",
     "locked": true,
     "schema_version": 3,
     "solution": false,
     "task": false
    }
   },
   "source": [
    "Complete the following tasks as you program:\n",
    "\n",
    "1. Use the <i>linprog</i> solver from the <i>scipy</i> package to solve the problem.\n",
    "<br>\n",
    "<br>\n",
    "2. Is the demand penalty active in the optimal solution? (recall that you consider two cases)"
   ]
  },
  {
   "cell_type": "code",
   "execution_count": null,
   "metadata": {
    "deletable": false,
    "editable": false,
    "nbgrader": {
     "cell_type": "code",
     "checksum": "75fd0d040428079e22f1dafa54cc0206",
     "grade": false,
     "grade_id": "cell-5fd9326fe1374e28",
     "locked": true,
     "schema_version": 3,
     "solution": false,
     "task": false
    },
    "scrolled": true
   },
   "outputs": [],
   "source": [
    "# Please keep in mind the units of all optimization variables while programing\n",
    "\n",
    "# I1, InFlow rate of Turbine_1, Unit kg/h\n",
    "# I2, InFlow rate of Turbine_2, Unit kg/h\n",
    "# HE1, Medium Pressure Steam outFlow rate from turbine 1, Unit kg/h\n",
    "# HE2, Medium Pressure Steam outFlow rate from turbine 2, Unit kg/h\n",
    "# LE1, Low-Pressure Steam outFlow rate from turbine 1, Unit kg/h\n",
    "# LE2, Low-Pressure Steam outFlow rate from turbine 2, Unit kg/h\n",
    "# C, Condensate Flow Rate, Unit kg/h\n",
    "# BF1, by-pass flow rate, Unit kg/h\n",
    "# BF2, by-pass flow rate, Unit kg/h\n",
    "# HPS, High pressure steam flow, Unit kg/h\n",
    "# MPS, Medium pressure steam flow, Unit kg/h\n",
    "# LPS, Low pressure steam flow, Unit kg/h\n",
    "# P1, Power genererated by turbine 1, Unit kW\n",
    "# P2, Power genererated by turbine 2, Unit kW\n",
    "# PP, Total Power produced by both the turbines, Unit kW\n",
    "# EP, Power purchased, Unit kW\n",
    "# Power, Total power delivered by the system,Unit kW\n",
    "# Fuel, Fuel consumed by the system, Unit kJ/h"
   ]
  },
  {
   "cell_type": "markdown",
   "metadata": {
    "deletable": false,
    "editable": false,
    "nbgrader": {
     "cell_type": "markdown",
     "checksum": "59310dc9b578d566fd4130d304207383",
     "grade": false,
     "grade_id": "cell-49fc0cb9536e5566",
     "locked": true,
     "schema_version": 3,
     "solution": false,
     "task": false
    }
   },
   "source": [
    "Tip: every solver expects input in its own unique format. We should inform ourselves of this format by looking at the documentation of the solver <u>before</u> we start to implement our problem.\n",
    "\n",
    "[https://docs.scipy.org/doc/scipy/reference/generated/scipy.optimize.linprog.html](URL 'Click here for linprog documentation')\n",
    "\n",
    "`linprog(c, Aub, bub, Aeq, beq, bounds, method='interior-point', options, x0)`\n",
    "\n",
    "\n",
    "\\begin{align}\n",
    "\\min_\\mathbf x \\ & \\mathbf c^T \\mathbf x \\\\\n",
    "        \\mbox{s. t.} \\; \\ & \\mathbf A_{ub} \\mathbf x \\leq \\mathbf b_{ub},\\\\\n",
    "        & \\mathbf A_{eq} \\mathbf x = \\mathbf b_{eq},\\\\\n",
    "        & \\mathbf l \\leq \\mathbf x \\leq \\mathbf u ,\n",
    "\\end{align}\n",
    "\n",
    "\n",
    "where $\\mathbf x$ is a vector of decision variables; $\\mathbf c$,\n",
    "$\\mathbf b_{ub}$, $\\mathbf b_{eq}$, $\\mathbf l$, and $\\mathbf u$ are vectors; and\n",
    "$\\mathbf A_{ub}$ and $\\mathbf A_{eq}$ are matrices."
   ]
  },
  {
   "cell_type": "code",
   "execution_count": 241,
   "metadata": {
    "scrolled": true
   },
   "outputs": [],
   "source": [
    "import numpy as np\n",
    "from scipy.optimize import linprog"
   ]
  },
  {
   "cell_type": "code",
   "execution_count": 242,
   "metadata": {
    "hide_input": false,
    "scrolled": true
   },
   "outputs": [],
   "source": [
    "# dimensions of problem \n",
    "numVars = 18\n",
    "numEqC = 10\n",
    "numInEqC = 2\n",
    "\n",
    "# define indicies for variables\n",
    "I1, I2, HE1, HE2, LE1, LE2, C, BF1, BF2, HPS, MPS, LPS, P1, P2, PP, EP, Power, Fuel = (i for i in range(numVars))\n",
    "\n",
    "# prices from Table 2\n",
    "fuel_cost_coeff = 1.5*10 ** (-6) # Unit Euro/kJ\n",
    "condensate_loss_coeff = 0.008    # Unit Euro/kg\n",
    "produced_power_coeff = 0.02      # Unit Euro/kWh\n",
    "purchased_power_coeff = 0.05     # Unit Euro/kWh\n",
    "demand_penalty = 0.001           # Unit Euro/kWh\n",
    "\n",
    "# enthalpies from Table 4\n",
    "Enthalpy_of_HPS = 3163           # Unit kJ/kg\n",
    "enthalpy_mps = 2949              # Unit kJ/kg\n",
    "enthalpy_lps = 2911              # Unit kJ/kg \n",
    "enthalpy_condensate = 449        # Unit kJ/kg\n",
    "\n",
    "# data from Table 5\n",
    "Evaporator_Efficiency = 0.75     # Unit -\n",
    "basic_power = 12000              # Unit kW"
   ]
  },
  {
   "cell_type": "code",
   "execution_count": 243,
   "metadata": {
    "deletable": false,
    "nbgrader": {
     "cell_type": "code",
     "checksum": "a8aa7ff878ea5301a3e2ed143c5359dd",
     "grade": false,
     "grade_id": "objCoeffs",
     "locked": false,
     "schema_version": 3,
     "solution": true,
     "task": false
    },
    "scrolled": true
   },
   "outputs": [],
   "source": [
    "# coefficients in the objective function (10 points)\n",
    "# input: nothing\n",
    "# output: numpy array of coefficients in the objective function\n",
    "#I1, I2, HE1, HE2, LE1, LE2, C, BF1, BF2, HPS, MPS, LPS, P1, P2, PP, EP, Power, Fuel\n",
    "def objCoeffs():\n",
    "    # initialize\n",
    "    # c = np.zeros(...)\n",
    "    # c[PP]=0.02 \n",
    "    # ...\n",
    "    # we will set c[EP] later, depending on the case\n",
    "    \n",
    "    # YOUR CODE HERE\n",
    "    #raise NotImplementedError()\n",
    "    c = np.zeros(18)\n",
    "    c[C] = condensate_loss_coeff\n",
    "    c[PP] = produced_power_coeff\n",
    "    c[Fuel] = fuel_cost_coeff\n",
    "    return c\n"
   ]
  },
  {
   "cell_type": "code",
   "execution_count": 244,
   "metadata": {
    "scrolled": true
   },
   "outputs": [
    {
     "data": {
      "text/plain": [
       "array([0.0e+00, 0.0e+00, 0.0e+00, 0.0e+00, 0.0e+00, 0.0e+00, 8.0e-03,\n",
       "       0.0e+00, 0.0e+00, 0.0e+00, 0.0e+00, 0.0e+00, 0.0e+00, 0.0e+00,\n",
       "       2.0e-02, 0.0e+00, 0.0e+00, 1.5e-06])"
      ]
     },
     "execution_count": 244,
     "metadata": {},
     "output_type": "execute_result"
    }
   ],
   "source": [
    "objCoeffs()"
   ]
  },
  {
   "cell_type": "code",
   "execution_count": 245,
   "metadata": {
    "deletable": false,
    "editable": false,
    "nbgrader": {
     "cell_type": "code",
     "checksum": "7bfae9ffde44d1eb812a45f9a0ef272f",
     "grade": true,
     "grade_id": "test_objCoeffs",
     "locked": true,
     "points": 10,
     "schema_version": 3,
     "solution": false,
     "task": false
    },
    "scrolled": true
   },
   "outputs": [],
   "source": [
    "# please leave this cell as it is"
   ]
  },
  {
   "cell_type": "code",
   "execution_count": 246,
   "metadata": {
    "deletable": false,
    "nbgrader": {
     "cell_type": "code",
     "checksum": "d1701b83e0e98bb03ff23c8c21b2b838",
     "grade": false,
     "grade_id": "IneqCons",
     "locked": false,
     "schema_version": 3,
     "solution": true,
     "task": false
    },
    "scrolled": true
   },
   "outputs": [],
   "source": [
    "# inequality constraints (10 points)\n",
    "# input: nothing\n",
    "# output: numpy arrays Aub and bub\n",
    "def IneqCons():\n",
    "    \n",
    "    # initialize\n",
    "    # Aub = np.zeros...\n",
    "    # bub = np.zeros...\n",
    "\n",
    "    # I1-HE1 <= 60000 \n",
    "    # Aub[0,I1]=1\n",
    "    # Aub[0,HE1]=-1\n",
    "    # bub[0]=60000\n",
    "\n",
    "    # P1+P2+EP >= 24500\n",
    "    # ...\n",
    "\n",
    "    # YOUR CODE HERE\n",
    "    #raise NotImplementedError()\n",
    "    Aub = np.zeros([2,18])\n",
    "    bub = np.zeros(2)\n",
    "    Aub[:,I1] = [1,0]\n",
    "    Aub[:,HE1] = [-1,0]\n",
    "    Aub[:,P1] = [0,-1]\n",
    "    Aub[:,P2] = [0,-1]\n",
    "    Aub[:,EP] = [0,-1]\n",
    "    bub[0] = 60000\n",
    "    bub[1] = -24500\n",
    "    return Aub, bub"
   ]
  },
  {
   "cell_type": "code",
   "execution_count": 247,
   "metadata": {
    "scrolled": true
   },
   "outputs": [
    {
     "data": {
      "text/plain": [
       "(array([[ 1.,  0., -1.,  0.,  0.,  0.,  0.,  0.,  0.,  0.,  0.,  0.,  0.,\n",
       "          0.,  0.,  0.,  0.,  0.],\n",
       "        [ 0.,  0.,  0.,  0.,  0.,  0.,  0.,  0.,  0.,  0.,  0.,  0., -1.,\n",
       "         -1.,  0., -1.,  0.,  0.]]),\n",
       " array([ 60000., -24500.]))"
      ]
     },
     "execution_count": 247,
     "metadata": {},
     "output_type": "execute_result"
    }
   ],
   "source": [
    "IneqCons()"
   ]
  },
  {
   "cell_type": "code",
   "execution_count": 248,
   "metadata": {
    "deletable": false,
    "editable": false,
    "nbgrader": {
     "cell_type": "code",
     "checksum": "b706eebcd7433c8335270cb724b1666c",
     "grade": true,
     "grade_id": "test_IneqCons",
     "locked": true,
     "points": 10,
     "schema_version": 3,
     "solution": false,
     "task": false
    },
    "scrolled": true
   },
   "outputs": [],
   "source": [
    "# please leave this cell as it is"
   ]
  },
  {
   "cell_type": "code",
   "execution_count": 249,
   "metadata": {
    "deletable": false,
    "nbgrader": {
     "cell_type": "code",
     "checksum": "fa53c33b3d5e4ff51f1fd8f32fbbdc86",
     "grade": false,
     "grade_id": "EqCons",
     "locked": false,
     "schema_version": 3,
     "solution": true,
     "task": false
    },
    "scrolled": true
   },
   "outputs": [],
   "source": [
    "# equality constraints (10 points)\n",
    "# input: nothing\n",
    "# output: numpy arrays Aeq and beq\n",
    "\n",
    "#HPS, I2, BF1, LE1, HE2, BF2, MPS, LPS = sim.symbols('HPS I2 BF1 LE1 HE2 BF2 MPS LPS')\n",
    "def EqCons():\n",
    "    \n",
    "    # Aeq = np.zeros ...\n",
    "    # beq = np.zeros ...\n",
    "\n",
    "    # Enthalpy_of_HPS*HPS=Evaporator_Efficiency*Fuel\n",
    "    # Aeq[0,Fuel]=Evaporator_Efficiency\n",
    "    # Aeq[0,HPS]=-Enthalpy_of_HPS\n",
    "\n",
    "    # HPS = I1+I2+BF1\n",
    "    # ...\n",
    "    \n",
    "    # I1 = HE1+LE1+C\n",
    "    # ...\n",
    "    \n",
    "    # ...\n",
    "    \n",
    "    # YOUR CODE HERE\n",
    "    #raise NotImplementedError()\n",
    "    Aeq = np.zeros([10,18])\n",
    "    beq = np.zeros(10)\n",
    "    #Equation MB1\n",
    "    Aeq[0,I1] = 1\n",
    "    Aeq[0,I2] = 1\n",
    "    Aeq[0,BF1] = 1\n",
    "    Aeq[0,HPS] = -1\n",
    "    \n",
    "    #Equation MB2\n",
    "    Aeq[1,I1] = -1\n",
    "    Aeq[1,HE1] = 1\n",
    "    Aeq[1,LE1] = 1\n",
    "    Aeq[1,C] = 1\n",
    "    \n",
    "    #Equation MB3\n",
    "    Aeq[2,I2] = -1\n",
    "    Aeq[2,HE2] = 1\n",
    "    Aeq[2,LE2] = 1\n",
    "    \n",
    "    #Equation MB4\n",
    "    Aeq[3,HE1] = 1\n",
    "    Aeq[3,HE2] = 1\n",
    "    Aeq[3,BF1] = 1\n",
    "    Aeq[3,BF2] = -1\n",
    "    Aeq[3,MPS] = -1\n",
    "    \n",
    "    #Equation MB5\n",
    "    Aeq[4,LE1] = 1\n",
    "    Aeq[4,LE2] = 1\n",
    "    Aeq[4,BF2] = 1\n",
    "    Aeq[4,LPS] = -1\n",
    "    \n",
    "    #Equation EB1\n",
    "    Aeq[5,I1] = -3163\n",
    "    Aeq[5,HE1] = 2949\n",
    "    Aeq[5,LE1] = 2911\n",
    "    Aeq[5,C] = 449\n",
    "    Aeq[5,P1] = 3600\n",
    "    \n",
    "    #Equation EB2\n",
    "    Aeq[6,I2] = -3163\n",
    "    Aeq[6,HE2] = 2949\n",
    "    Aeq[6,LE2] = 2911\n",
    "    Aeq[6,P2] = 3600\n",
    "    \n",
    "    #Equation EB3\n",
    "    Aeq[7,P1] = 1\n",
    "    Aeq[7,P2] = 1\n",
    "    Aeq[7,PP] = -1\n",
    "    \n",
    "    #Equation EB4\n",
    "    Aeq[8,PP] = 1\n",
    "    Aeq[8,EP] = 1\n",
    "    Aeq[8, Power] = -1\n",
    "    \n",
    "    #Equation EB5\n",
    "    Aeq[9,HPS] = -Enthalpy_of_HPS\n",
    "    Aeq[9,Fuel] = Evaporator_Efficiency\n",
    "    \n",
    "    return Aeq, beq"
   ]
  },
  {
   "cell_type": "code",
   "execution_count": 250,
   "metadata": {},
   "outputs": [
    {
     "data": {
      "text/plain": [
       "(array([[ 1.000e+00,  1.000e+00,  0.000e+00,  0.000e+00,  0.000e+00,\n",
       "          0.000e+00,  0.000e+00,  1.000e+00,  0.000e+00, -1.000e+00,\n",
       "          0.000e+00,  0.000e+00,  0.000e+00,  0.000e+00,  0.000e+00,\n",
       "          0.000e+00,  0.000e+00,  0.000e+00],\n",
       "        [-1.000e+00,  0.000e+00,  1.000e+00,  0.000e+00,  1.000e+00,\n",
       "          0.000e+00,  1.000e+00,  0.000e+00,  0.000e+00,  0.000e+00,\n",
       "          0.000e+00,  0.000e+00,  0.000e+00,  0.000e+00,  0.000e+00,\n",
       "          0.000e+00,  0.000e+00,  0.000e+00],\n",
       "        [ 0.000e+00, -1.000e+00,  0.000e+00,  1.000e+00,  0.000e+00,\n",
       "          1.000e+00,  0.000e+00,  0.000e+00,  0.000e+00,  0.000e+00,\n",
       "          0.000e+00,  0.000e+00,  0.000e+00,  0.000e+00,  0.000e+00,\n",
       "          0.000e+00,  0.000e+00,  0.000e+00],\n",
       "        [ 0.000e+00,  0.000e+00,  1.000e+00,  1.000e+00,  0.000e+00,\n",
       "          0.000e+00,  0.000e+00,  1.000e+00, -1.000e+00,  0.000e+00,\n",
       "         -1.000e+00,  0.000e+00,  0.000e+00,  0.000e+00,  0.000e+00,\n",
       "          0.000e+00,  0.000e+00,  0.000e+00],\n",
       "        [ 0.000e+00,  0.000e+00,  0.000e+00,  0.000e+00,  1.000e+00,\n",
       "          1.000e+00,  0.000e+00,  0.000e+00,  1.000e+00,  0.000e+00,\n",
       "          0.000e+00, -1.000e+00,  0.000e+00,  0.000e+00,  0.000e+00,\n",
       "          0.000e+00,  0.000e+00,  0.000e+00],\n",
       "        [-3.163e+03,  0.000e+00,  2.949e+03,  0.000e+00,  2.911e+03,\n",
       "          0.000e+00,  4.490e+02,  0.000e+00,  0.000e+00,  0.000e+00,\n",
       "          0.000e+00,  0.000e+00,  3.600e+03,  0.000e+00,  0.000e+00,\n",
       "          0.000e+00,  0.000e+00,  0.000e+00],\n",
       "        [ 0.000e+00, -3.163e+03,  0.000e+00,  2.949e+03,  0.000e+00,\n",
       "          2.911e+03,  0.000e+00,  0.000e+00,  0.000e+00,  0.000e+00,\n",
       "          0.000e+00,  0.000e+00,  0.000e+00,  3.600e+03,  0.000e+00,\n",
       "          0.000e+00,  0.000e+00,  0.000e+00],\n",
       "        [ 0.000e+00,  0.000e+00,  0.000e+00,  0.000e+00,  0.000e+00,\n",
       "          0.000e+00,  0.000e+00,  0.000e+00,  0.000e+00,  0.000e+00,\n",
       "          0.000e+00,  0.000e+00,  1.000e+00,  1.000e+00, -1.000e+00,\n",
       "          0.000e+00,  0.000e+00,  0.000e+00],\n",
       "        [ 0.000e+00,  0.000e+00,  0.000e+00,  0.000e+00,  0.000e+00,\n",
       "          0.000e+00,  0.000e+00,  0.000e+00,  0.000e+00,  0.000e+00,\n",
       "          0.000e+00,  0.000e+00,  0.000e+00,  0.000e+00,  1.000e+00,\n",
       "          1.000e+00, -1.000e+00,  0.000e+00],\n",
       "        [ 0.000e+00,  0.000e+00,  0.000e+00,  0.000e+00,  0.000e+00,\n",
       "          0.000e+00,  0.000e+00,  0.000e+00,  0.000e+00, -3.163e+03,\n",
       "          0.000e+00,  0.000e+00,  0.000e+00,  0.000e+00,  0.000e+00,\n",
       "          0.000e+00,  0.000e+00,  7.500e-01]]),\n",
       " array([0., 0., 0., 0., 0., 0., 0., 0., 0., 0.]))"
      ]
     },
     "execution_count": 250,
     "metadata": {},
     "output_type": "execute_result"
    }
   ],
   "source": [
    "EqCons()"
   ]
  },
  {
   "cell_type": "code",
   "execution_count": 251,
   "metadata": {
    "deletable": false,
    "editable": false,
    "nbgrader": {
     "cell_type": "code",
     "checksum": "d162d8f2be5991bc6038a527f10bfbf2",
     "grade": true,
     "grade_id": "test_EqCons",
     "locked": true,
     "points": 10,
     "schema_version": 3,
     "solution": false,
     "task": false
    },
    "scrolled": true
   },
   "outputs": [],
   "source": [
    "# please leave this cell as it is"
   ]
  },
  {
   "cell_type": "code",
   "execution_count": 252,
   "metadata": {
    "deletable": false,
    "nbgrader": {
     "cell_type": "code",
     "checksum": "5eced26fb34cd3ef75dbf89705d29c8a",
     "grade": false,
     "grade_id": "bounds",
     "locked": false,
     "schema_version": 3,
     "solution": true,
     "task": false
    },
    "scrolled": true
   },
   "outputs": [],
   "source": [
    "# lower and upper bounds for variables (10 points)\n",
    "# input: nothing\n",
    "# output: numpy arrays l and u\n",
    "\n",
    "def bounds():\n",
    "    \n",
    "    # l = np.zeros...\n",
    "    # u = np.ones...\n",
    "\n",
    "    # l[P1]=2500\n",
    "    # ...\n",
    "\n",
    "    # u[P1]=6250\n",
    "    # ...\n",
    "\n",
    "    # YOUR CODE HERE\n",
    "    #raise NotImplementedError()\n",
    "    l = np.zeros(18)\n",
    "    u = np.ones(18)\n",
    "    #Lower bounds:\n",
    "    l[I1] = 0\n",
    "    l[I2] = 0\n",
    "    l[HE1] = 0\n",
    "    l[HE2] = 0\n",
    "    l[LE1] = 0\n",
    "    l[LE2] = 0\n",
    "    l[C] = 0\n",
    "    l[BF1] = 0\n",
    "    l[BF2] = 0\n",
    "    l[HPS] = 0\n",
    "    l[MPS] = 123000\n",
    "    l[LPS] = 45000\n",
    "    l[P1] = 2500\n",
    "    l[P2] = 3000\n",
    "    l[PP] = 0\n",
    "    l[EP] = 0\n",
    "    l[Power] = 0\n",
    "    l[Fuel] = 0\n",
    "    \n",
    "    #Upper Bounds:\n",
    "    u[I1] = 87000\n",
    "    u[I2] = 110000\n",
    "    u[HE1] = None\n",
    "    u[HE2] = None\n",
    "    u[LE1] = None\n",
    "    u[LE2] = 64000\n",
    "    u[C] = 28000\n",
    "    u[BF1] = None\n",
    "    u[BF2] = None\n",
    "    u[HPS] = None\n",
    "    u[MPS] = None\n",
    "    u[LPS] = None\n",
    "    u[P1] = 6250\n",
    "    u[P2] = 9000\n",
    "    u[PP] = None\n",
    "    u[EP] = 1\n",
    "    u[Power] = None\n",
    "    u[Fuel] = None\n",
    "    \n",
    "    return l,u"
   ]
  },
  {
   "cell_type": "code",
   "execution_count": 253,
   "metadata": {},
   "outputs": [
    {
     "data": {
      "text/plain": [
       "(array([     0.,      0.,      0.,      0.,      0.,      0.,      0.,\n",
       "             0.,      0.,      0., 123000.,  45000.,   2500.,   3000.,\n",
       "             0.,      0.,      0.,      0.]),\n",
       " array([8.70e+04, 1.10e+05,      nan,      nan,      nan, 6.40e+04,\n",
       "        2.80e+04,      nan,      nan,      nan,      nan,      nan,\n",
       "        6.25e+03, 9.00e+03,      nan, 1.00e+00,      nan,      nan]))"
      ]
     },
     "execution_count": 253,
     "metadata": {},
     "output_type": "execute_result"
    }
   ],
   "source": [
    "bounds()"
   ]
  },
  {
   "cell_type": "code",
   "execution_count": 254,
   "metadata": {
    "deletable": false,
    "editable": false,
    "nbgrader": {
     "cell_type": "code",
     "checksum": "ea65ace16406f2ee48c085547ca84753",
     "grade": true,
     "grade_id": "test_bounds",
     "locked": true,
     "points": 10,
     "schema_version": 3,
     "solution": false,
     "task": false
    },
    "scrolled": true
   },
   "outputs": [],
   "source": [
    "# please leave this cell as it is"
   ]
  },
  {
   "cell_type": "code",
   "execution_count": 255,
   "metadata": {
    "deletable": false,
    "nbgrader": {
     "cell_type": "code",
     "checksum": "ed2c0aaffdaae99f43dbfdfb06367cd0",
     "grade": false,
     "grade_id": "notActive",
     "locked": false,
     "schema_version": 3,
     "solution": true,
     "task": false
    },
    "scrolled": true
   },
   "outputs": [],
   "source": [
    "# demand penalty not active (25 points)\n",
    "# EP >= 12 MW\n",
    "# input: nothing\n",
    "# output: cost, EPval (value of additional power purchased) and optimal operating point (i.e. the values of I1, I2, HE1, HE2, LE1, LE2, C, BF1, BF2, HPS, MPS, LPS, P1, P2, PP, EP, Power, Fuel)\n",
    "\n",
    "def notActive():\n",
    "    c = objCoeffs()\n",
    "    Aub, bub = IneqCons()\n",
    "    Aeq, beq = EqCons()\n",
    "    l, u = bounds()\n",
    "    # collect bounds in the correct format for using linprog        \n",
    "    # bnds = ...\n",
    "    # demand penalty is not active in this case\n",
    "    # c[EP] = ...\n",
    "    # bnds[EP] = ...\n",
    "\n",
    "    # YOUR CODE HERE\n",
    "    #raise NotImplementedError()\n",
    "    c[EP] = purchased_power_coeff\n",
    "    l[EP] = 12000\n",
    "    u[EP] = None\n",
    "    l = np.transpose(l)\n",
    "    u = np.transpose(u)\n",
    "    limits = np.column_stack((l,u))\n",
    "    bnds = list(map(tuple, limits))\n",
    "    res = linprog(c, Aub, bub, Aeq, beq, bnds, method='interior-point')\n",
    "    cost = res.fun\n",
    "    EPval = res.x[EP]\n",
    "    OptPoint = res.x       \n",
    "    return cost, EPval, OptPoint"
   ]
  },
  {
   "cell_type": "code",
   "execution_count": 256,
   "metadata": {},
   "outputs": [
    {
     "data": {
      "text/plain": [
       "(1951.5020425237374,\n",
       " 12000.000032880318,\n",
       " array([7.08523033e+04, 9.98514550e+04, 5.97556492e+04, 6.32443513e+04,\n",
       "        8.39289576e+03, 3.66071037e+04, 2.70375826e+03, 6.79553635e-05,\n",
       "        5.47117768e-04, 1.70703758e+05, 1.23000000e+05, 4.50000000e+04,\n",
       "        6.17797738e+03, 6.32202259e+03, 1.25000000e+04, 1.20000000e+04,\n",
       "        2.45000000e+04, 7.19914650e+08]))"
      ]
     },
     "execution_count": 256,
     "metadata": {},
     "output_type": "execute_result"
    }
   ],
   "source": [
    "notActive()"
   ]
  },
  {
   "cell_type": "code",
   "execution_count": 257,
   "metadata": {
    "deletable": false,
    "editable": false,
    "nbgrader": {
     "cell_type": "code",
     "checksum": "1c35be182bc1460dea2b5d34bb9f23f6",
     "grade": true,
     "grade_id": "test_notActive",
     "locked": true,
     "points": 25,
     "schema_version": 3,
     "solution": false,
     "task": false
    },
    "scrolled": true
   },
   "outputs": [],
   "source": [
    "# please leave this cell as it is"
   ]
  },
  {
   "cell_type": "code",
   "execution_count": 258,
   "metadata": {
    "deletable": false,
    "nbgrader": {
     "cell_type": "code",
     "checksum": "a83c36300a3b47762cacb9840b475d74",
     "grade": false,
     "grade_id": "active",
     "locked": false,
     "schema_version": 3,
     "solution": true,
     "task": false
    },
    "scrolled": true
   },
   "outputs": [],
   "source": [
    "# demand penalty active (25 points)\n",
    "# EP < 12 MW\n",
    "# input: nothing\n",
    "# output: cost, EPval (value of additional power purchased) and optimal operating point (i.e. the values of I1, I2, HE1, HE2, LE1, LE2, C, BF1, BF2, HPS, MPS, LPS, P1, P2, PP, EP, Power, Fuel)\n",
    "demand_penatly = 0.001\n",
    "def active():\n",
    "    \n",
    "    c = objCoeffs()\n",
    "    Aub, bub = IneqCons()\n",
    "    Aeq, beq = EqCons()\n",
    "    l, u = bounds()\n",
    "        \n",
    "    # collect bounds in the correct format for using linprog        \n",
    "    # bnds = ...\n",
    "    \n",
    "    # demand penalty is active in this case\n",
    "    # c[EP] = ...\n",
    "    # bnds[EP] = ...\n",
    "    \n",
    "    # YOUR CODE HERE\n",
    "    #raise NotImplementedError() \n",
    "    c[EP] = purchased_power_coeff-demand_penalty\n",
    "    l[EP] = 0\n",
    "    u[EP] = 12000\n",
    "    l = np.transpose(l)\n",
    "    u = np.transpose(u)\n",
    "    limits = np.column_stack((l,u))\n",
    "    bnds = list(map(tuple, limits))\n",
    "    res = linprog(c, Aub, bub, Aeq, beq, bnds, method='interior-point')\n",
    "    cost = res.fun+(demand_penatly*12000)\n",
    "    EPval = res.x[EP]\n",
    "    OptPoint = res.x      \n",
    "    return cost, EPval, OptPoint"
   ]
  },
  {
   "cell_type": "code",
   "execution_count": 259,
   "metadata": {},
   "outputs": [
    {
     "data": {
      "text/plain": [
       "(1943.8653083236452,\n",
       " 11236.111261543376,\n",
       " array([6.17170220e+04, 1.10000000e+05, 5.79999932e+04, 6.50000068e+04,\n",
       "        6.08240746e-03, 4.49999932e+04, 3.71702274e+03, 2.86628604e-03,\n",
       "        1.70517396e-03, 1.71717025e+05, 1.23000001e+05, 4.50000009e+04,\n",
       "        6.24999994e+03, 7.01388882e+03, 1.32638888e+04, 1.12361113e+04,\n",
       "        2.45000000e+04, 7.24187933e+08]))"
      ]
     },
     "execution_count": 259,
     "metadata": {},
     "output_type": "execute_result"
    }
   ],
   "source": [
    "active()"
   ]
  },
  {
   "cell_type": "code",
   "execution_count": 260,
   "metadata": {
    "deletable": false,
    "editable": false,
    "nbgrader": {
     "cell_type": "code",
     "checksum": "76713c6ddce1cbc828ca03877ae6f888",
     "grade": true,
     "grade_id": "test_active",
     "locked": true,
     "points": 25,
     "schema_version": 3,
     "solution": false,
     "task": false
    },
    "scrolled": true
   },
   "outputs": [],
   "source": [
    "# please leave this cell as it is"
   ]
  },
  {
   "cell_type": "markdown",
   "metadata": {},
   "source": [
    "Is the demand penalty active in the optimal solution? (Type your answer in the cell below, 10 points)"
   ]
  },
  {
   "cell_type": "markdown",
   "metadata": {
    "deletable": false,
    "nbgrader": {
     "cell_type": "markdown",
     "checksum": "12d6d59288adc165244179fff21f776a",
     "grade": true,
     "grade_id": "activeORnot",
     "locked": false,
     "points": 10,
     "schema_version": 3,
     "solution": true,
     "task": false
    }
   },
   "source": [
    "Yes, the demand penalty is active in the optimal solution as the cost is minimum in that case"
   ]
  }
 ],
 "metadata": {
  "kernelspec": {
   "display_name": "Python 3 (ipykernel)",
   "language": "python",
   "name": "python3"
  },
  "language_info": {
   "codemirror_mode": {
    "name": "ipython",
    "version": 3
   },
   "file_extension": ".py",
   "mimetype": "text/x-python",
   "name": "python",
   "nbconvert_exporter": "python",
   "pygments_lexer": "ipython3",
   "version": "3.9.12"
  }
 },
 "nbformat": 4,
 "nbformat_minor": 4
}
